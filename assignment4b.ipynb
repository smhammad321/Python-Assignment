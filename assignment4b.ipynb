{
 "cells": [
  {
   "cell_type": "code",
   "execution_count": 7,
   "metadata": {},
   "outputs": [
    {
     "name": "stdout",
     "output_type": "stream",
     "text": [
      "please enter your age: 13\n",
      "Ticket is 15$\n"
     ]
    }
   ],
   "source": [
    "age=int(input(\"please enter your age: \"))\n",
    "if age > 12:\n",
    "    print (\"Ticket is 15$\")\n",
    "elif age > 3:\n",
    "    print (\"Ticket is 10$\")\n",
    "    \n",
    "else:\n",
    "    print (\"Ticket is free\")"
   ]
  },
  {
   "cell_type": "code",
   "execution_count": 3,
   "metadata": {},
   "outputs": [
    {
     "name": "stdout",
     "output_type": "stream",
     "text": [
      "Alice in wonder land is one of my favourite book \n"
     ]
    }
   ],
   "source": [
    "def my_function(book = \"Alice in wonder land\"):\n",
    "  print(book + \" is one of my favourite book \" )\n",
    "\n",
    "\n",
    "my_function()\n"
   ]
  },
  {
   "cell_type": "code",
   "execution_count": 1,
   "metadata": {},
   "outputs": [
    {
     "name": "stdout",
     "output_type": "stream",
     "text": [
      "hello! what is your name?\n",
      "hammad\n",
      "well,hammadi am thinking of a number between 1 and 20\n",
      "take a guess\n",
      "4\n",
      "your guess is too high\n",
      "take a guess\n",
      "2\n",
      "your guess is too high\n",
      "take a guess\n",
      "1\n",
      "goodjob,hammad! you guessed my number in3guesses!\n"
     ]
    }
   ],
   "source": [
    "import random\n",
    "guessestaken = 0\n",
    "print('hello! what is your name?')\n",
    "myName = input()\n",
    "number = random.randint(1,20)\n",
    "print('well,'+ myName + 'i am thinking of a number between 1 and 20')\n",
    "while guessestaken<6:\n",
    "    print('take a guess')\n",
    "    guess = input()\n",
    "    guess = int(guess)\n",
    "    guessestaken = guessestaken + 1\n",
    "    if guess<number:\n",
    "        print('your guess is too low')\n",
    "    if guess>number:\n",
    "        print('your guess is too high')\n",
    "    if guess == number:\n",
    "        break\n",
    "if guess == number:\n",
    "    guessestaken = str(guessestaken)\n",
    "    print('goodjob,'+myName+'! you guessed my number in'+guessestaken+'guesses!')\n",
    "if guess != number:\n",
    "    number = str(number)\n",
    "    print('Nope.The number i was thinkin of was'+number)"
   ]
  },
  {
   "cell_type": "code",
   "execution_count": null,
   "metadata": {},
   "outputs": [],
   "source": []
  }
 ],
 "metadata": {
  "kernelspec": {
   "display_name": "Python 3",
   "language": "python",
   "name": "python3"
  },
  "language_info": {
   "codemirror_mode": {
    "name": "ipython",
    "version": 3
   },
   "file_extension": ".py",
   "mimetype": "text/x-python",
   "name": "python",
   "nbconvert_exporter": "python",
   "pygments_lexer": "ipython3",
   "version": "3.7.4"
  }
 },
 "nbformat": 4,
 "nbformat_minor": 2
}
