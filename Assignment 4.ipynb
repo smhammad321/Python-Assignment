{
 "cells": [
  {
   "cell_type": "code",
   "execution_count": 7,
   "metadata": {},
   "outputs": [
    {
     "name": "stdout",
     "output_type": "stream",
     "text": [
      "Jack\n",
      "john\n",
      "26\n",
      "paris\n",
      "high academic\n",
      "None\n"
     ]
    }
   ],
   "source": [
    "my_dict = {'first name':'Jack','last name':'john','age': 26,'city':'paris'}\n",
    "\n",
    "\n",
    "print(my_dict['first name'])\n",
    "print(my_dict['last name'])\n",
    "\n",
    "\n",
    "print(my_dict.get('age'))\n",
    "print(my_dict.get('city'))\n",
    "\n",
    "my_dict = {'qualification':'secondary'}\n",
    "\n",
    " \n",
    "\n",
    "my_dict['qualification'] = 'high academic'\n",
    "print(my_dict.get('qualification'))\n",
    "\n",
    "del my_dict['qualification']\n",
    "print(my_dict.get('qualification'))"
   ]
  },
  {
   "cell_type": "code",
   "execution_count": 26,
   "metadata": {},
   "outputs": [
    {
     "name": "stdout",
     "output_type": "stream",
     "text": [
      "karachi\n",
      "Pakistan\n",
      "14.91 million\n",
      "It is the 6th largest city of the world\n",
      "paris\n",
      "France\n",
      "2.141 million\n",
      "Paris is known as city of light\n",
      "Dehli\n",
      "India\n",
      "18.98 million\n",
      "Dehli is the home to the largest market of spices in Asia\n"
     ]
    }
   ],
   "source": [
    "cities = [\n",
    "{\n",
    "    \"city\":'karachi',\n",
    "    \"country\":'Pakistan',\n",
    "    \"population\":'14.91 million',\n",
    "    \"fact\":'It is the 6th largest city of the world'\n",
    "},\n",
    "    { \"city\":'paris',\n",
    "    \"country\":'France',\n",
    "    \"population\":'2.141 million',\n",
    "    \"fact\":'Paris is known as city of light'\n",
    "        \n",
    "    },\n",
    "    { \"city\":'Dehli',\n",
    "    \"country\":'India',\n",
    "    \"population\":'18.98 million',\n",
    "    \"fact\":'Dehli is the home to the largest market of spices in Asia'\n",
    "        \n",
    "    }\n",
    "]\n",
    "print(cities[0][\"city\"])\n",
    "print(cities[0][\"country\"])\n",
    "print(cities[0][\"population\"])\n",
    "print(cities[0][\"fact\"])\n",
    "\n",
    "print(cities[1][\"city\"])\n",
    "print(cities[1][\"country\"])\n",
    "print(cities[1][\"population\"])\n",
    "print(cities[1][\"fact\"])\n",
    "\n",
    "\n",
    "print(cities[2][\"city\"])\n",
    "print(cities[2][\"country\"])\n",
    "print(cities[2][\"population\"])\n",
    "print(cities[2][\"fact\"])\n",
    "\n"
   ]
  },
  {
   "cell_type": "code",
   "execution_count": null,
   "metadata": {},
   "outputs": [],
   "source": []
  },
  {
   "cell_type": "code",
   "execution_count": null,
   "metadata": {},
   "outputs": [],
   "source": []
  }
 ],
 "metadata": {
  "kernelspec": {
   "display_name": "Python 3",
   "language": "python",
   "name": "python3"
  },
  "language_info": {
   "codemirror_mode": {
    "name": "ipython",
    "version": 3
   },
   "file_extension": ".py",
   "mimetype": "text/x-python",
   "name": "python",
   "nbconvert_exporter": "python",
   "pygments_lexer": "ipython3",
   "version": "3.7.4"
  }
 },
 "nbformat": 4,
 "nbformat_minor": 2
}
