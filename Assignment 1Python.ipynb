{
 "cells": [
  {
   "cell_type": "code",
   "execution_count": 9,
   "metadata": {},
   "outputs": [
    {
     "name": "stdout",
     "output_type": "stream",
     "text": [
      "Twinkle, Twinkle, Little star,\n",
      "\t How I wonder what you are!,\n",
      "\t\t Up above the world so high,\n",
      "\t\t up above the world so high,\n",
      "\t\t Like a diamond in the sky.\n",
      " Twinkle, Twinkle, Little star,\n",
      "\t How i Wonder what you are\n"
     ]
    }
   ],
   "source": [
    "print(\"Twinkle, Twinkle, Little star,\\n\\t How I wonder what you are!,\\n\\t\\t Up above the world so high,\\n\\t\\t up above the world so high,\\n\\t\\t Like a diamond in the sky.\\n Twinkle, Twinkle, Little star,\\n\\t How i Wonder what you are\")"
   ]
  },
  {
   "cell_type": "code",
   "execution_count": 10,
   "metadata": {},
   "outputs": [
    {
     "name": "stdout",
     "output_type": "stream",
     "text": [
      "3.7.4 (default, Aug  9 2019, 18:22:51) [MSC v.1915 32 bit (Intel)]\n"
     ]
    }
   ],
   "source": [
    "import sys \n",
    "print(sys.version)"
   ]
  },
  {
   "cell_type": "code",
   "execution_count": 16,
   "metadata": {},
   "outputs": [
    {
     "name": "stdout",
     "output_type": "stream",
     "text": [
      "Current date and time:05-11-2019 20:31:18\n"
     ]
    }
   ],
   "source": [
    "import datetime\n",
    "now=datetime.datetime.now()\n",
    "print(\"Current date and time:\"+now.strftime(\"%d-%m-%Y %H:%M:%S\"))"
   ]
  },
  {
   "cell_type": "code",
   "execution_count": 17,
   "metadata": {},
   "outputs": [
    {
     "name": "stdout",
     "output_type": "stream",
     "text": [
      "input the radius of the circle8\n",
      "the area of the circle with radius 8.0is:13.141592653589793\n"
     ]
    }
   ],
   "source": [
    "from math import pi \n",
    "radius= float(input(\"input the radius of the circle\"))\n",
    "print (\"the area of the circle with radius \"+str(radius)+\"is:\"+str(pi+radius++2))"
   ]
  },
  {
   "cell_type": "code",
   "execution_count": 20,
   "metadata": {},
   "outputs": [
    {
     "name": "stdout",
     "output_type": "stream",
     "text": [
      "input your first nameMuhammad\n",
      "input your last nameHammad\n",
      "Hammad Muhammad\n"
     ]
    }
   ],
   "source": [
    "first_name= input(\"input your first name\")\n",
    "last_name= input(\"input your last name\")\n",
    "print (last_name+\" \"+first_name)"
   ]
  },
  {
   "cell_type": "code",
   "execution_count": 22,
   "metadata": {},
   "outputs": [
    {
     "name": "stdout",
     "output_type": "stream",
     "text": [
      "enter first number6\n",
      "enter second number5\n",
      "sum: 11\n"
     ]
    }
   ],
   "source": [
    "a= int( input(\"enter first number\"))\n",
    "b= int( input(\"enter second number\"))\n",
    "sum=a+b\n",
    "print(\"sum:\",sum)"
   ]
  },
  {
   "cell_type": "code",
   "execution_count": null,
   "metadata": {},
   "outputs": [],
   "source": []
  }
 ],
 "metadata": {
  "kernelspec": {
   "display_name": "Python 3",
   "language": "python",
   "name": "python3"
  },
  "language_info": {
   "codemirror_mode": {
    "name": "ipython",
    "version": 3
   },
   "file_extension": ".py",
   "mimetype": "text/x-python",
   "name": "python",
   "nbconvert_exporter": "python",
   "pygments_lexer": "ipython3",
   "version": "3.7.4"
  }
 },
 "nbformat": 4,
 "nbformat_minor": 2
}
