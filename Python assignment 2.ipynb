{
 "cells": [
  {
   "cell_type": "code",
   "execution_count": 6,
   "metadata": {},
   "outputs": [
    {
     "name": "stdout",
     "output_type": "stream",
     "text": [
      "Enter marks of the first subject: 90\n",
      "Enter marks of the second subject: 87\n",
      "Enter marks of the third subject: 5\n",
      "Enter marks of the fourth subject: 4\n",
      "Enter marks of the fifth subject: 3\n",
      "Grade: F\n"
     ]
    }
   ],
   "source": [
    "sub1=int(input(\"Enter marks of the first subject: \"))\n",
    "sub2=int(input(\"Enter marks of the second subject: \"))\n",
    "sub3=int(input(\"Enter marks of the third subject: \"))\n",
    "sub4=int(input(\"Enter marks of the fourth subject: \"))\n",
    "sub5=int(input(\"Enter marks of the fifth subject: \"))\n",
    "avg=(sub1+sub2+sub3+sub4+sub5)/500\n",
    "if(avg>=90):\n",
    "    print(\"Grade: A\")\n",
    "elif(avg>=80): \n",
    "    print(\"Grade: B\")\n",
    "elif(avg>=70): \n",
    "    print(\"Grade: C\")\n",
    "elif(avg>=60): \n",
    "    print(\"Grade: D\")\n",
    "else:\n",
    "    print(\"Grade: F\")    "
   ]
  },
  {
   "cell_type": "code",
   "execution_count": 16,
   "metadata": {},
   "outputs": [
    {
     "name": "stdout",
     "output_type": "stream",
     "text": [
      "Enter n : 7\n",
      "7  is odd number\n"
     ]
    }
   ],
   "source": [
    "n=int(input(\"Enter n : \"))\n",
    "if(n%2==0):\n",
    "    print(n,\" is even number\")\n",
    "else: \n",
    "    print(n,\" is odd number\")"
   ]
  },
  {
   "cell_type": "code",
   "execution_count": 22,
   "metadata": {},
   "outputs": [
    {
     "name": "stdout",
     "output_type": "stream",
     "text": [
      "23\n",
      "71\n",
      "8\n",
      "101\n",
      "557\n",
      "789\n",
      "3\n",
      "555\n",
      "29\n",
      "7\n"
     ]
    }
   ],
   "source": [
    "list_a = list([23,71,8,101,557,789,3,555,29,7])\n",
    "i = 0\n",
    "while i<len(list_a):\n",
    "    print(list_a[i])\n",
    "    i = i + 1\n",
    "        "
   ]
  },
  {
   "cell_type": "code",
   "execution_count": 2,
   "metadata": {},
   "outputs": [
    {
     "name": "stdout",
     "output_type": "stream",
     "text": [
      "how many numbers:5\n",
      "enter number10\n",
      "enter number20\n",
      "enter number30\n",
      "enter number40\n",
      "enter number50\n",
      "sum of elements in given list is: 150\n"
     ]
    }
   ],
   "source": [
    "lst=[]\n",
    "num= int(input('how many numbers:'))\n",
    "for n in range(num):\n",
    "    numbers=int(input('enter number'))\n",
    "    lst.append(numbers)\n",
    "print(\"sum of elements in given list is:\",sum(lst))\n",
    "\n"
   ]
  },
  {
   "cell_type": "code",
   "execution_count": null,
   "metadata": {
    "scrolled": true
   },
   "outputs": [],
   "source": [
    "lst=[]\n",
    "num=int(input('how many numbers:'))\n",
    "for n in range(num):\n",
    "        numbers=int(input('enter number'))\n",
    "        lst.append(numbers)\n",
    "print(\"Maximum element in the list is:\",max(lst))"
   ]
  },
  {
   "cell_type": "code",
   "execution_count": 5,
   "metadata": {},
   "outputs": [
    {
     "name": "stdout",
     "output_type": "stream",
     "text": [
      "1\n",
      "2\n",
      "2\n",
      "3\n"
     ]
    }
   ],
   "source": [
    "a=[1,2,2,3,5,8,13,21,34,55,89]\n",
    "for i in a:\n",
    "    if i<5:\n",
    "        print(i)"
   ]
  },
  {
   "cell_type": "code",
   "execution_count": null,
   "metadata": {},
   "outputs": [],
   "source": []
  }
 ],
 "metadata": {
  "kernelspec": {
   "display_name": "Python 3",
   "language": "python",
   "name": "python3"
  },
  "language_info": {
   "codemirror_mode": {
    "name": "ipython",
    "version": 3
   },
   "file_extension": ".py",
   "mimetype": "text/x-python",
   "name": "python",
   "nbconvert_exporter": "python",
   "pygments_lexer": "ipython3",
   "version": "3.7.4"
  }
 },
 "nbformat": 4,
 "nbformat_minor": 2
}
