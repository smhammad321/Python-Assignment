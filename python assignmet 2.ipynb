{
 "cells": [
  {
   "cell_type": "code",
   "execution_count": 1,
   "metadata": {},
   "outputs": [
    {
     "name": "stdout",
     "output_type": "stream",
     "text": [
      "how many numbers:10\n",
      "enter number65\n",
      "enter number67\n",
      "enter number98\n",
      "enter number75\n",
      "enter number45\n",
      "enter number67\n",
      "enter number98\n",
      "enter number76\n",
      "enter number54\n",
      "enter number34\n",
      "Maximum element in the list is: 98\n"
     ]
    }
   ],
   "source": [
    "lst=[]\n",
    "num=int(input('how many numbers:'))\n",
    "for n in range(num):\n",
    "        numbers=int(input('enter number'))\n",
    "        lst.append(numbers)\n",
    "print(\"Maximum element in the list is:\",max(lst))"
   ]
  },
  {
   "cell_type": "code",
   "execution_count": null,
   "metadata": {},
   "outputs": [],
   "source": []
  }
 ],
 "metadata": {
  "kernelspec": {
   "display_name": "Python 3",
   "language": "python",
   "name": "python3"
  },
  "language_info": {
   "codemirror_mode": {
    "name": "ipython",
    "version": 3
   },
   "file_extension": ".py",
   "mimetype": "text/x-python",
   "name": "python",
   "nbconvert_exporter": "python",
   "pygments_lexer": "ipython3",
   "version": "3.7.4"
  }
 },
 "nbformat": 4,
 "nbformat_minor": 2
}
